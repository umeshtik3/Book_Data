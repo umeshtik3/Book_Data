{
 "cells": [
  {
   "cell_type": "markdown",
   "metadata": {},
   "source": [
    " |FEATURES|DESCRPTION|\n",
    " |-----|-----|\n",
    " |Title| The title of the book|\n",
    " |Author| The author(s) of the book|\n",
    " |Edition| The edition of the book eg (Paperback,– Import, 26 Apr 2018) |\n",
    " |Reviews|The customer reviews about the book|\n",
    " |Ratings|The customer ratings of the book|\n",
    " |Synopsis:| The synopsis of the book|\n",
    " |Genre:| The genre the book belongs to BookCategory|\n",
    " |BookCategory: |The department the book is usually available at. |\n",
    " |Price: | The price of the book (Target variable)|\n",
    " \n",
    " \n",
    "## The problem statement is predict the price of book\n",
    "\n",
    " Size of training set: 6237 records Size of test set: 1560 records "
   ]
  },
  {
   "cell_type": "markdown",
   "metadata": {},
   "source": [
    "Hypothesis generation:\n",
    "1. Is price of books  depends on author\n",
    "2. is price of book depends upon edition \n",
    "3. are more review means higher price?\n",
    "4. are higher rating mean higher price?\n",
    "5. is genre of book make any sense to price?\n",
    "6. is price of book depends on bookcategory\n"
   ]
  },
  {
   "cell_type": "code",
   "execution_count": 3,
   "metadata": {},
   "outputs": [],
   "source": [
    "import pandas as pd\n",
    "import numpy as np\n",
    "import matplotlib.pyplot as plt\n",
    "import seaborn as sns\n",
    "from sklearn.preprocessing import LabelEncoder\n",
    "from sklearn.preprocessing import StandardScaler\n",
    "from sklearn.model_selection import train_test_split,KFold\n",
    "from sklearn.linear_model import LogisticRegression\n",
    "from sklearn.linear_model import LinearRegression\n",
    "from sklearn.linear_model import Lasso\n",
    "from sklearn.tree import DecisionTreeRegressor\n",
    "from sklearn.neighbors import KNeighborsClassifier\n",
    "from sklearn.metrics import accuracy_score,classification_report,f1_score,confusion_matrix\n"
   ]
  },
  {
   "cell_type": "code",
   "execution_count": 75,
   "metadata": {},
   "outputs": [],
   "source": [
    "book_data = pd.read_excel('Data_train.xlsx')\n",
    "book_data1 =pd.read_excel('Data_test.xlsx')\n",
    "ss =pd.read_excel('Sample_Submission.xlsx')"
   ]
  },
  {
   "cell_type": "code",
   "execution_count": 5,
   "metadata": {},
   "outputs": [
    {
     "name": "stdout",
     "output_type": "stream",
     "text": [
      "(6237, 9)\n",
      "(1560, 8)\n"
     ]
    },
    {
     "data": {
      "text/plain": [
       "7797"
      ]
     },
     "execution_count": 5,
     "metadata": {},
     "output_type": "execute_result"
    }
   ],
   "source": [
    "print(book_data.shape)\n",
    "print(book_data1.shape)\n",
    "6237+1560\n",
    "\n"
   ]
  },
  {
   "cell_type": "code",
   "execution_count": 6,
   "metadata": {},
   "outputs": [
    {
     "data": {
      "text/plain": [
       "count     6237.000000\n",
       "mean       560.707516\n",
       "std        690.110657\n",
       "min         25.000000\n",
       "25%        249.180000\n",
       "50%        373.000000\n",
       "75%        599.000000\n",
       "max      14100.000000\n",
       "Name: Price, dtype: float64"
      ]
     },
     "execution_count": 6,
     "metadata": {},
     "output_type": "execute_result"
    }
   ],
   "source": [
    "book_data['Price'].describe()"
   ]
  },
  {
   "cell_type": "code",
   "execution_count": 7,
   "metadata": {},
   "outputs": [
    {
     "data": {
      "text/html": [
       "<div>\n",
       "<style scoped>\n",
       "    .dataframe tbody tr th:only-of-type {\n",
       "        vertical-align: middle;\n",
       "    }\n",
       "\n",
       "    .dataframe tbody tr th {\n",
       "        vertical-align: top;\n",
       "    }\n",
       "\n",
       "    .dataframe thead th {\n",
       "        text-align: right;\n",
       "    }\n",
       "</style>\n",
       "<table border=\"1\" class=\"dataframe\">\n",
       "  <thead>\n",
       "    <tr style=\"text-align: right;\">\n",
       "      <th></th>\n",
       "      <th>Title</th>\n",
       "      <th>Author</th>\n",
       "      <th>Edition</th>\n",
       "      <th>Reviews</th>\n",
       "      <th>Ratings</th>\n",
       "      <th>Synopsis</th>\n",
       "      <th>Genre</th>\n",
       "      <th>BookCategory</th>\n",
       "      <th>Price</th>\n",
       "    </tr>\n",
       "  </thead>\n",
       "  <tbody>\n",
       "    <tr>\n",
       "      <th>0</th>\n",
       "      <td>The Prisoner's Gold (The Hunters 3)</td>\n",
       "      <td>Chris Kuzneski</td>\n",
       "      <td>Paperback,– 10 Mar 2016</td>\n",
       "      <td>4.0 out of 5 stars</td>\n",
       "      <td>8 customer reviews</td>\n",
       "      <td>THE HUNTERS return in their third brilliant no...</td>\n",
       "      <td>Action &amp; Adventure (Books)</td>\n",
       "      <td>Action &amp; Adventure</td>\n",
       "      <td>220.00</td>\n",
       "    </tr>\n",
       "    <tr>\n",
       "      <th>1</th>\n",
       "      <td>Guru Dutt: A Tragedy in Three Acts</td>\n",
       "      <td>Arun Khopkar</td>\n",
       "      <td>Paperback,– 7 Nov 2012</td>\n",
       "      <td>3.9 out of 5 stars</td>\n",
       "      <td>14 customer reviews</td>\n",
       "      <td>A layered portrait of a troubled genius for wh...</td>\n",
       "      <td>Cinema &amp; Broadcast (Books)</td>\n",
       "      <td>Biographies, Diaries &amp; True Accounts</td>\n",
       "      <td>202.93</td>\n",
       "    </tr>\n",
       "    <tr>\n",
       "      <th>2</th>\n",
       "      <td>Leviathan (Penguin Classics)</td>\n",
       "      <td>Thomas Hobbes</td>\n",
       "      <td>Paperback,– 25 Feb 1982</td>\n",
       "      <td>4.8 out of 5 stars</td>\n",
       "      <td>6 customer reviews</td>\n",
       "      <td>\"During the time men live without a common Pow...</td>\n",
       "      <td>International Relations</td>\n",
       "      <td>Humour</td>\n",
       "      <td>299.00</td>\n",
       "    </tr>\n",
       "    <tr>\n",
       "      <th>3</th>\n",
       "      <td>A Pocket Full of Rye (Miss Marple)</td>\n",
       "      <td>Agatha Christie</td>\n",
       "      <td>Paperback,– 5 Oct 2017</td>\n",
       "      <td>4.1 out of 5 stars</td>\n",
       "      <td>13 customer reviews</td>\n",
       "      <td>A handful of grain is found in the pocket of a...</td>\n",
       "      <td>Contemporary Fiction (Books)</td>\n",
       "      <td>Crime, Thriller &amp; Mystery</td>\n",
       "      <td>180.00</td>\n",
       "    </tr>\n",
       "    <tr>\n",
       "      <th>4</th>\n",
       "      <td>LIFE 70 Years of Extraordinary Photography</td>\n",
       "      <td>Editors of Life</td>\n",
       "      <td>Hardcover,– 10 Oct 2006</td>\n",
       "      <td>5.0 out of 5 stars</td>\n",
       "      <td>1 customer review</td>\n",
       "      <td>For seven decades, \"Life\" has been thrilling t...</td>\n",
       "      <td>Photography Textbooks</td>\n",
       "      <td>Arts, Film &amp; Photography</td>\n",
       "      <td>965.62</td>\n",
       "    </tr>\n",
       "    <tr>\n",
       "      <th>...</th>\n",
       "      <td>...</td>\n",
       "      <td>...</td>\n",
       "      <td>...</td>\n",
       "      <td>...</td>\n",
       "      <td>...</td>\n",
       "      <td>...</td>\n",
       "      <td>...</td>\n",
       "      <td>...</td>\n",
       "      <td>...</td>\n",
       "    </tr>\n",
       "    <tr>\n",
       "      <th>7792</th>\n",
       "      <td>100 Things Every Designer Needs to Know About ...</td>\n",
       "      <td>Susan Weinschenk</td>\n",
       "      <td>Paperback,– 14 Apr 2011</td>\n",
       "      <td>5.0 out of 5 stars</td>\n",
       "      <td>4 customer reviews</td>\n",
       "      <td>We design to elicit responses from people. We ...</td>\n",
       "      <td>Design</td>\n",
       "      <td>Computing, Internet &amp; Digital Media</td>\n",
       "      <td>NaN</td>\n",
       "    </tr>\n",
       "    <tr>\n",
       "      <th>7793</th>\n",
       "      <td>Modern Letter Writing Course: Personal, Busine...</td>\n",
       "      <td>ARUN SAGAR</td>\n",
       "      <td>Paperback,– 8 May 2013</td>\n",
       "      <td>3.6 out of 5 stars</td>\n",
       "      <td>13 customer reviews</td>\n",
       "      <td>A 30-day course to write simple, sharp and att...</td>\n",
       "      <td>Children's Reference (Books)</td>\n",
       "      <td>Biographies, Diaries &amp; True Accounts</td>\n",
       "      <td>NaN</td>\n",
       "    </tr>\n",
       "    <tr>\n",
       "      <th>7794</th>\n",
       "      <td>The Kite Runner Graphic Novel</td>\n",
       "      <td>Khaled Hosseini</td>\n",
       "      <td>Paperback,– 6 Sep 2011</td>\n",
       "      <td>4.0 out of 5 stars</td>\n",
       "      <td>5 customer reviews</td>\n",
       "      <td>The perennial bestseller-now available as a se...</td>\n",
       "      <td>Humour (Books)</td>\n",
       "      <td>Humour</td>\n",
       "      <td>NaN</td>\n",
       "    </tr>\n",
       "    <tr>\n",
       "      <th>7795</th>\n",
       "      <td>Panzer Leader (Penguin World War II Collection)</td>\n",
       "      <td>Heinz Guderian</td>\n",
       "      <td>Paperback,– 22 Sep 2009</td>\n",
       "      <td>3.5 out of 5 stars</td>\n",
       "      <td>3 customer reviews</td>\n",
       "      <td>Heinz Guderian - master of the Blitzkrieg and ...</td>\n",
       "      <td>United States History</td>\n",
       "      <td>Biographies, Diaries &amp; True Accounts</td>\n",
       "      <td>NaN</td>\n",
       "    </tr>\n",
       "    <tr>\n",
       "      <th>7796</th>\n",
       "      <td>Complete Spanish Step-by-Step</td>\n",
       "      <td>Barbara Bregstein</td>\n",
       "      <td>Paperback,– 16 Sep 2016</td>\n",
       "      <td>4.5 out of 5 stars</td>\n",
       "      <td>2 customer reviews</td>\n",
       "      <td>Learn Spanish with the most convenient and eff...</td>\n",
       "      <td>Dictionaries</td>\n",
       "      <td>Language, Linguistics &amp; Writing</td>\n",
       "      <td>NaN</td>\n",
       "    </tr>\n",
       "  </tbody>\n",
       "</table>\n",
       "<p>7797 rows × 9 columns</p>\n",
       "</div>"
      ],
      "text/plain": [
       "                                                  Title             Author  \\\n",
       "0                   The Prisoner's Gold (The Hunters 3)     Chris Kuzneski   \n",
       "1                    Guru Dutt: A Tragedy in Three Acts       Arun Khopkar   \n",
       "2                          Leviathan (Penguin Classics)      Thomas Hobbes   \n",
       "3                    A Pocket Full of Rye (Miss Marple)    Agatha Christie   \n",
       "4            LIFE 70 Years of Extraordinary Photography    Editors of Life   \n",
       "...                                                 ...                ...   \n",
       "7792  100 Things Every Designer Needs to Know About ...   Susan Weinschenk   \n",
       "7793  Modern Letter Writing Course: Personal, Busine...         ARUN SAGAR   \n",
       "7794                      The Kite Runner Graphic Novel    Khaled Hosseini   \n",
       "7795    Panzer Leader (Penguin World War II Collection)     Heinz Guderian   \n",
       "7796                      Complete Spanish Step-by-Step  Barbara Bregstein   \n",
       "\n",
       "                      Edition             Reviews              Ratings  \\\n",
       "0     Paperback,– 10 Mar 2016  4.0 out of 5 stars   8 customer reviews   \n",
       "1      Paperback,– 7 Nov 2012  3.9 out of 5 stars  14 customer reviews   \n",
       "2     Paperback,– 25 Feb 1982  4.8 out of 5 stars   6 customer reviews   \n",
       "3      Paperback,– 5 Oct 2017  4.1 out of 5 stars  13 customer reviews   \n",
       "4     Hardcover,– 10 Oct 2006  5.0 out of 5 stars    1 customer review   \n",
       "...                       ...                 ...                  ...   \n",
       "7792  Paperback,– 14 Apr 2011  5.0 out of 5 stars   4 customer reviews   \n",
       "7793   Paperback,– 8 May 2013  3.6 out of 5 stars  13 customer reviews   \n",
       "7794   Paperback,– 6 Sep 2011  4.0 out of 5 stars   5 customer reviews   \n",
       "7795  Paperback,– 22 Sep 2009  3.5 out of 5 stars   3 customer reviews   \n",
       "7796  Paperback,– 16 Sep 2016  4.5 out of 5 stars   2 customer reviews   \n",
       "\n",
       "                                               Synopsis  \\\n",
       "0     THE HUNTERS return in their third brilliant no...   \n",
       "1     A layered portrait of a troubled genius for wh...   \n",
       "2     \"During the time men live without a common Pow...   \n",
       "3     A handful of grain is found in the pocket of a...   \n",
       "4     For seven decades, \"Life\" has been thrilling t...   \n",
       "...                                                 ...   \n",
       "7792  We design to elicit responses from people. We ...   \n",
       "7793  A 30-day course to write simple, sharp and att...   \n",
       "7794  The perennial bestseller-now available as a se...   \n",
       "7795  Heinz Guderian - master of the Blitzkrieg and ...   \n",
       "7796  Learn Spanish with the most convenient and eff...   \n",
       "\n",
       "                             Genre                          BookCategory  \\\n",
       "0       Action & Adventure (Books)                    Action & Adventure   \n",
       "1       Cinema & Broadcast (Books)  Biographies, Diaries & True Accounts   \n",
       "2          International Relations                                Humour   \n",
       "3     Contemporary Fiction (Books)             Crime, Thriller & Mystery   \n",
       "4            Photography Textbooks              Arts, Film & Photography   \n",
       "...                            ...                                   ...   \n",
       "7792                        Design   Computing, Internet & Digital Media   \n",
       "7793  Children's Reference (Books)  Biographies, Diaries & True Accounts   \n",
       "7794                Humour (Books)                                Humour   \n",
       "7795         United States History  Biographies, Diaries & True Accounts   \n",
       "7796                  Dictionaries       Language, Linguistics & Writing   \n",
       "\n",
       "       Price  \n",
       "0     220.00  \n",
       "1     202.93  \n",
       "2     299.00  \n",
       "3     180.00  \n",
       "4     965.62  \n",
       "...      ...  \n",
       "7792     NaN  \n",
       "7793     NaN  \n",
       "7794     NaN  \n",
       "7795     NaN  \n",
       "7796     NaN  \n",
       "\n",
       "[7797 rows x 9 columns]"
      ]
     },
     "execution_count": 7,
     "metadata": {},
     "output_type": "execute_result"
    }
   ],
   "source": [
    "df = pd.concat([book_data, book_data1], axis=0).reset_index(drop = True)\n",
    "df"
   ]
  },
  {
   "cell_type": "markdown",
   "metadata": {},
   "source": [
    "df = pd.read_excel('Data_train.xlsx')"
   ]
  },
  {
   "cell_type": "code",
   "execution_count": 8,
   "metadata": {},
   "outputs": [
    {
     "name": "stdout",
     "output_type": "stream",
     "text": [
      " the data contains 7797 values  and 8 features\n"
     ]
    }
   ],
   "source": [
    "print(f' the data contains {df.shape[0]} values  and {(df.shape[1])-1} features')"
   ]
  },
  {
   "cell_type": "code",
   "execution_count": 9,
   "metadata": {},
   "outputs": [
    {
     "data": {
      "text/plain": [
       "Index(['Title', 'Author', 'Edition', 'Reviews', 'Ratings', 'Synopsis', 'Genre',\n",
       "       'BookCategory', 'Price'],\n",
       "      dtype='object')"
      ]
     },
     "execution_count": 9,
     "metadata": {},
     "output_type": "execute_result"
    }
   ],
   "source": [
    "df.columns"
   ]
  },
  {
   "cell_type": "code",
   "execution_count": 10,
   "metadata": {},
   "outputs": [
    {
     "data": {
      "text/html": [
       "<div>\n",
       "<style scoped>\n",
       "    .dataframe tbody tr th:only-of-type {\n",
       "        vertical-align: middle;\n",
       "    }\n",
       "\n",
       "    .dataframe tbody tr th {\n",
       "        vertical-align: top;\n",
       "    }\n",
       "\n",
       "    .dataframe thead th {\n",
       "        text-align: right;\n",
       "    }\n",
       "</style>\n",
       "<table border=\"1\" class=\"dataframe\">\n",
       "  <thead>\n",
       "    <tr style=\"text-align: right;\">\n",
       "      <th></th>\n",
       "      <th>Title</th>\n",
       "      <th>Author</th>\n",
       "      <th>Edition</th>\n",
       "      <th>Reviews</th>\n",
       "      <th>Ratings</th>\n",
       "      <th>Synopsis</th>\n",
       "      <th>Genre</th>\n",
       "      <th>BookCategory</th>\n",
       "      <th>Price</th>\n",
       "    </tr>\n",
       "  </thead>\n",
       "  <tbody>\n",
       "    <tr>\n",
       "      <th>0</th>\n",
       "      <td>The Prisoner's Gold (The Hunters 3)</td>\n",
       "      <td>Chris Kuzneski</td>\n",
       "      <td>Paperback,– 10 Mar 2016</td>\n",
       "      <td>4.0 out of 5 stars</td>\n",
       "      <td>8 customer reviews</td>\n",
       "      <td>THE HUNTERS return in their third brilliant no...</td>\n",
       "      <td>Action &amp; Adventure (Books)</td>\n",
       "      <td>Action &amp; Adventure</td>\n",
       "      <td>220.00</td>\n",
       "    </tr>\n",
       "    <tr>\n",
       "      <th>1</th>\n",
       "      <td>Guru Dutt: A Tragedy in Three Acts</td>\n",
       "      <td>Arun Khopkar</td>\n",
       "      <td>Paperback,– 7 Nov 2012</td>\n",
       "      <td>3.9 out of 5 stars</td>\n",
       "      <td>14 customer reviews</td>\n",
       "      <td>A layered portrait of a troubled genius for wh...</td>\n",
       "      <td>Cinema &amp; Broadcast (Books)</td>\n",
       "      <td>Biographies, Diaries &amp; True Accounts</td>\n",
       "      <td>202.93</td>\n",
       "    </tr>\n",
       "    <tr>\n",
       "      <th>2</th>\n",
       "      <td>Leviathan (Penguin Classics)</td>\n",
       "      <td>Thomas Hobbes</td>\n",
       "      <td>Paperback,– 25 Feb 1982</td>\n",
       "      <td>4.8 out of 5 stars</td>\n",
       "      <td>6 customer reviews</td>\n",
       "      <td>\"During the time men live without a common Pow...</td>\n",
       "      <td>International Relations</td>\n",
       "      <td>Humour</td>\n",
       "      <td>299.00</td>\n",
       "    </tr>\n",
       "  </tbody>\n",
       "</table>\n",
       "</div>"
      ],
      "text/plain": [
       "                                 Title          Author  \\\n",
       "0  The Prisoner's Gold (The Hunters 3)  Chris Kuzneski   \n",
       "1   Guru Dutt: A Tragedy in Three Acts    Arun Khopkar   \n",
       "2         Leviathan (Penguin Classics)   Thomas Hobbes   \n",
       "\n",
       "                   Edition             Reviews              Ratings  \\\n",
       "0  Paperback,– 10 Mar 2016  4.0 out of 5 stars   8 customer reviews   \n",
       "1   Paperback,– 7 Nov 2012  3.9 out of 5 stars  14 customer reviews   \n",
       "2  Paperback,– 25 Feb 1982  4.8 out of 5 stars   6 customer reviews   \n",
       "\n",
       "                                            Synopsis  \\\n",
       "0  THE HUNTERS return in their third brilliant no...   \n",
       "1  A layered portrait of a troubled genius for wh...   \n",
       "2  \"During the time men live without a common Pow...   \n",
       "\n",
       "                        Genre                          BookCategory   Price  \n",
       "0  Action & Adventure (Books)                    Action & Adventure  220.00  \n",
       "1  Cinema & Broadcast (Books)  Biographies, Diaries & True Accounts  202.93  \n",
       "2     International Relations                                Humour  299.00  "
      ]
     },
     "execution_count": 10,
     "metadata": {},
     "output_type": "execute_result"
    }
   ],
   "source": [
    "df.head(3)"
   ]
  },
  {
   "cell_type": "markdown",
   "metadata": {},
   "source": [
    "As we see the reviews and ratings columns names are interchanged, we should swap them"
   ]
  },
  {
   "cell_type": "code",
   "execution_count": 11,
   "metadata": {},
   "outputs": [],
   "source": [
    "#changing the name of columns\n",
    "df.rename(columns={'Reviews':'Rating',\n",
    "                 'Ratings':'Review'},inplace=True)"
   ]
  },
  {
   "cell_type": "code",
   "execution_count": 12,
   "metadata": {},
   "outputs": [
    {
     "data": {
      "text/html": [
       "<div>\n",
       "<style scoped>\n",
       "    .dataframe tbody tr th:only-of-type {\n",
       "        vertical-align: middle;\n",
       "    }\n",
       "\n",
       "    .dataframe tbody tr th {\n",
       "        vertical-align: top;\n",
       "    }\n",
       "\n",
       "    .dataframe thead th {\n",
       "        text-align: right;\n",
       "    }\n",
       "</style>\n",
       "<table border=\"1\" class=\"dataframe\">\n",
       "  <thead>\n",
       "    <tr style=\"text-align: right;\">\n",
       "      <th></th>\n",
       "      <th>Title</th>\n",
       "      <th>Author</th>\n",
       "      <th>Edition</th>\n",
       "      <th>Rating</th>\n",
       "      <th>Review</th>\n",
       "      <th>Synopsis</th>\n",
       "      <th>Genre</th>\n",
       "      <th>BookCategory</th>\n",
       "      <th>Price</th>\n",
       "    </tr>\n",
       "  </thead>\n",
       "  <tbody>\n",
       "    <tr>\n",
       "      <th>0</th>\n",
       "      <td>The Prisoner's Gold (The Hunters 3)</td>\n",
       "      <td>Chris Kuzneski</td>\n",
       "      <td>Paperback,– 10 Mar 2016</td>\n",
       "      <td>4.0 out of 5 stars</td>\n",
       "      <td>8 customer reviews</td>\n",
       "      <td>THE HUNTERS return in their third brilliant no...</td>\n",
       "      <td>Action &amp; Adventure (Books)</td>\n",
       "      <td>Action &amp; Adventure</td>\n",
       "      <td>220.00</td>\n",
       "    </tr>\n",
       "    <tr>\n",
       "      <th>1</th>\n",
       "      <td>Guru Dutt: A Tragedy in Three Acts</td>\n",
       "      <td>Arun Khopkar</td>\n",
       "      <td>Paperback,– 7 Nov 2012</td>\n",
       "      <td>3.9 out of 5 stars</td>\n",
       "      <td>14 customer reviews</td>\n",
       "      <td>A layered portrait of a troubled genius for wh...</td>\n",
       "      <td>Cinema &amp; Broadcast (Books)</td>\n",
       "      <td>Biographies, Diaries &amp; True Accounts</td>\n",
       "      <td>202.93</td>\n",
       "    </tr>\n",
       "    <tr>\n",
       "      <th>2</th>\n",
       "      <td>Leviathan (Penguin Classics)</td>\n",
       "      <td>Thomas Hobbes</td>\n",
       "      <td>Paperback,– 25 Feb 1982</td>\n",
       "      <td>4.8 out of 5 stars</td>\n",
       "      <td>6 customer reviews</td>\n",
       "      <td>\"During the time men live without a common Pow...</td>\n",
       "      <td>International Relations</td>\n",
       "      <td>Humour</td>\n",
       "      <td>299.00</td>\n",
       "    </tr>\n",
       "  </tbody>\n",
       "</table>\n",
       "</div>"
      ],
      "text/plain": [
       "                                 Title          Author  \\\n",
       "0  The Prisoner's Gold (The Hunters 3)  Chris Kuzneski   \n",
       "1   Guru Dutt: A Tragedy in Three Acts    Arun Khopkar   \n",
       "2         Leviathan (Penguin Classics)   Thomas Hobbes   \n",
       "\n",
       "                   Edition              Rating               Review  \\\n",
       "0  Paperback,– 10 Mar 2016  4.0 out of 5 stars   8 customer reviews   \n",
       "1   Paperback,– 7 Nov 2012  3.9 out of 5 stars  14 customer reviews   \n",
       "2  Paperback,– 25 Feb 1982  4.8 out of 5 stars   6 customer reviews   \n",
       "\n",
       "                                            Synopsis  \\\n",
       "0  THE HUNTERS return in their third brilliant no...   \n",
       "1  A layered portrait of a troubled genius for wh...   \n",
       "2  \"During the time men live without a common Pow...   \n",
       "\n",
       "                        Genre                          BookCategory   Price  \n",
       "0  Action & Adventure (Books)                    Action & Adventure  220.00  \n",
       "1  Cinema & Broadcast (Books)  Biographies, Diaries & True Accounts  202.93  \n",
       "2     International Relations                                Humour  299.00  "
      ]
     },
     "execution_count": 12,
     "metadata": {},
     "output_type": "execute_result"
    }
   ],
   "source": [
    "df.head(3)"
   ]
  },
  {
   "cell_type": "code",
   "execution_count": 13,
   "metadata": {},
   "outputs": [
    {
     "name": "stdout",
     "output_type": "stream",
     "text": [
      "<class 'pandas.core.frame.DataFrame'>\n",
      "RangeIndex: 7797 entries, 0 to 7796\n",
      "Data columns (total 9 columns):\n",
      " #   Column        Non-Null Count  Dtype  \n",
      "---  ------        --------------  -----  \n",
      " 0   Title         7797 non-null   object \n",
      " 1   Author        7797 non-null   object \n",
      " 2   Edition       7797 non-null   object \n",
      " 3   Rating        7797 non-null   object \n",
      " 4   Review        7797 non-null   object \n",
      " 5   Synopsis      7797 non-null   object \n",
      " 6   Genre         7797 non-null   object \n",
      " 7   BookCategory  7797 non-null   object \n",
      " 8   Price         6237 non-null   float64\n",
      "dtypes: float64(1), object(8)\n",
      "memory usage: 548.4+ KB\n"
     ]
    }
   ],
   "source": [
    "df.info()"
   ]
  },
  {
   "cell_type": "markdown",
   "metadata": {},
   "source": [
    "As we see the ratings and reviews are stored as string hence it shows object as datatype, we need to convert rating into float datatype and review as integer"
   ]
  },
  {
   "cell_type": "code",
   "execution_count": 14,
   "metadata": {},
   "outputs": [],
   "source": [
    "df['Rating'] = df['Rating'].map(lambda x : float(x.split()[0]) )"
   ]
  },
  {
   "cell_type": "code",
   "execution_count": 15,
   "metadata": {},
   "outputs": [
    {
     "name": "stdout",
     "output_type": "stream",
     "text": [
      "<class 'pandas.core.frame.DataFrame'>\n",
      "RangeIndex: 7797 entries, 0 to 7796\n",
      "Data columns (total 9 columns):\n",
      " #   Column        Non-Null Count  Dtype  \n",
      "---  ------        --------------  -----  \n",
      " 0   Title         7797 non-null   object \n",
      " 1   Author        7797 non-null   object \n",
      " 2   Edition       7797 non-null   object \n",
      " 3   Rating        7797 non-null   float64\n",
      " 4   Review        7797 non-null   object \n",
      " 5   Synopsis      7797 non-null   object \n",
      " 6   Genre         7797 non-null   object \n",
      " 7   BookCategory  7797 non-null   object \n",
      " 8   Price         6237 non-null   float64\n",
      "dtypes: float64(2), object(7)\n",
      "memory usage: 548.4+ KB\n"
     ]
    }
   ],
   "source": [
    "df.info()"
   ]
  },
  {
   "cell_type": "code",
   "execution_count": 16,
   "metadata": {},
   "outputs": [
    {
     "data": {
      "text/html": [
       "<div>\n",
       "<style scoped>\n",
       "    .dataframe tbody tr th:only-of-type {\n",
       "        vertical-align: middle;\n",
       "    }\n",
       "\n",
       "    .dataframe tbody tr th {\n",
       "        vertical-align: top;\n",
       "    }\n",
       "\n",
       "    .dataframe thead th {\n",
       "        text-align: right;\n",
       "    }\n",
       "</style>\n",
       "<table border=\"1\" class=\"dataframe\">\n",
       "  <thead>\n",
       "    <tr style=\"text-align: right;\">\n",
       "      <th></th>\n",
       "      <th>Title</th>\n",
       "      <th>Author</th>\n",
       "      <th>Edition</th>\n",
       "      <th>Rating</th>\n",
       "      <th>Review</th>\n",
       "      <th>Synopsis</th>\n",
       "      <th>Genre</th>\n",
       "      <th>BookCategory</th>\n",
       "      <th>Price</th>\n",
       "    </tr>\n",
       "  </thead>\n",
       "  <tbody>\n",
       "    <tr>\n",
       "      <th>0</th>\n",
       "      <td>The Prisoner's Gold (The Hunters 3)</td>\n",
       "      <td>Chris Kuzneski</td>\n",
       "      <td>Paperback,– 10 Mar 2016</td>\n",
       "      <td>4.0</td>\n",
       "      <td>8 customer reviews</td>\n",
       "      <td>THE HUNTERS return in their third brilliant no...</td>\n",
       "      <td>Action &amp; Adventure (Books)</td>\n",
       "      <td>Action &amp; Adventure</td>\n",
       "      <td>220.00</td>\n",
       "    </tr>\n",
       "    <tr>\n",
       "      <th>1</th>\n",
       "      <td>Guru Dutt: A Tragedy in Three Acts</td>\n",
       "      <td>Arun Khopkar</td>\n",
       "      <td>Paperback,– 7 Nov 2012</td>\n",
       "      <td>3.9</td>\n",
       "      <td>14 customer reviews</td>\n",
       "      <td>A layered portrait of a troubled genius for wh...</td>\n",
       "      <td>Cinema &amp; Broadcast (Books)</td>\n",
       "      <td>Biographies, Diaries &amp; True Accounts</td>\n",
       "      <td>202.93</td>\n",
       "    </tr>\n",
       "  </tbody>\n",
       "</table>\n",
       "</div>"
      ],
      "text/plain": [
       "                                 Title          Author  \\\n",
       "0  The Prisoner's Gold (The Hunters 3)  Chris Kuzneski   \n",
       "1   Guru Dutt: A Tragedy in Three Acts    Arun Khopkar   \n",
       "\n",
       "                   Edition  Rating               Review  \\\n",
       "0  Paperback,– 10 Mar 2016     4.0   8 customer reviews   \n",
       "1   Paperback,– 7 Nov 2012     3.9  14 customer reviews   \n",
       "\n",
       "                                            Synopsis  \\\n",
       "0  THE HUNTERS return in their third brilliant no...   \n",
       "1  A layered portrait of a troubled genius for wh...   \n",
       "\n",
       "                        Genre                          BookCategory   Price  \n",
       "0  Action & Adventure (Books)                    Action & Adventure  220.00  \n",
       "1  Cinema & Broadcast (Books)  Biographies, Diaries & True Accounts  202.93  "
      ]
     },
     "execution_count": 16,
     "metadata": {},
     "output_type": "execute_result"
    }
   ],
   "source": [
    "df.head(2)"
   ]
  },
  {
   "cell_type": "code",
   "execution_count": 17,
   "metadata": {},
   "outputs": [],
   "source": [
    "df['Review'] = df['Review'].map(lambda x : (x.split()[0]))"
   ]
  },
  {
   "cell_type": "code",
   "execution_count": 18,
   "metadata": {},
   "outputs": [],
   "source": [
    "\n",
    "df['Review'] = df['Review'].map(lambda x : (x.split(',')))"
   ]
  },
  {
   "cell_type": "code",
   "execution_count": 19,
   "metadata": {},
   "outputs": [],
   "source": [
    "df['Review'] = df['Review'].map(lambda x : int(''.join(x)))\n"
   ]
  },
  {
   "cell_type": "code",
   "execution_count": 20,
   "metadata": {},
   "outputs": [
    {
     "name": "stdout",
     "output_type": "stream",
     "text": [
      "<class 'pandas.core.frame.DataFrame'>\n",
      "RangeIndex: 7797 entries, 0 to 7796\n",
      "Data columns (total 9 columns):\n",
      " #   Column        Non-Null Count  Dtype  \n",
      "---  ------        --------------  -----  \n",
      " 0   Title         7797 non-null   object \n",
      " 1   Author        7797 non-null   object \n",
      " 2   Edition       7797 non-null   object \n",
      " 3   Rating        7797 non-null   float64\n",
      " 4   Review        7797 non-null   int64  \n",
      " 5   Synopsis      7797 non-null   object \n",
      " 6   Genre         7797 non-null   object \n",
      " 7   BookCategory  7797 non-null   object \n",
      " 8   Price         6237 non-null   float64\n",
      "dtypes: float64(2), int64(1), object(6)\n",
      "memory usage: 548.4+ KB\n"
     ]
    }
   ],
   "source": [
    "df.info()\n"
   ]
  },
  {
   "cell_type": "code",
   "execution_count": 21,
   "metadata": {},
   "outputs": [
    {
     "data": {
      "text/html": [
       "<div>\n",
       "<style scoped>\n",
       "    .dataframe tbody tr th:only-of-type {\n",
       "        vertical-align: middle;\n",
       "    }\n",
       "\n",
       "    .dataframe tbody tr th {\n",
       "        vertical-align: top;\n",
       "    }\n",
       "\n",
       "    .dataframe thead th {\n",
       "        text-align: right;\n",
       "    }\n",
       "</style>\n",
       "<table border=\"1\" class=\"dataframe\">\n",
       "  <thead>\n",
       "    <tr style=\"text-align: right;\">\n",
       "      <th></th>\n",
       "      <th>Title</th>\n",
       "      <th>Author</th>\n",
       "      <th>Edition</th>\n",
       "      <th>Rating</th>\n",
       "      <th>Review</th>\n",
       "      <th>Synopsis</th>\n",
       "      <th>Genre</th>\n",
       "      <th>BookCategory</th>\n",
       "      <th>Price</th>\n",
       "    </tr>\n",
       "  </thead>\n",
       "  <tbody>\n",
       "    <tr>\n",
       "      <th>0</th>\n",
       "      <td>The Prisoner's Gold (The Hunters 3)</td>\n",
       "      <td>Chris Kuzneski</td>\n",
       "      <td>Paperback,– 10 Mar 2016</td>\n",
       "      <td>4.0</td>\n",
       "      <td>8</td>\n",
       "      <td>THE HUNTERS return in their third brilliant no...</td>\n",
       "      <td>Action &amp; Adventure (Books)</td>\n",
       "      <td>Action &amp; Adventure</td>\n",
       "      <td>220.00</td>\n",
       "    </tr>\n",
       "    <tr>\n",
       "      <th>1</th>\n",
       "      <td>Guru Dutt: A Tragedy in Three Acts</td>\n",
       "      <td>Arun Khopkar</td>\n",
       "      <td>Paperback,– 7 Nov 2012</td>\n",
       "      <td>3.9</td>\n",
       "      <td>14</td>\n",
       "      <td>A layered portrait of a troubled genius for wh...</td>\n",
       "      <td>Cinema &amp; Broadcast (Books)</td>\n",
       "      <td>Biographies, Diaries &amp; True Accounts</td>\n",
       "      <td>202.93</td>\n",
       "    </tr>\n",
       "  </tbody>\n",
       "</table>\n",
       "</div>"
      ],
      "text/plain": [
       "                                 Title          Author  \\\n",
       "0  The Prisoner's Gold (The Hunters 3)  Chris Kuzneski   \n",
       "1   Guru Dutt: A Tragedy in Three Acts    Arun Khopkar   \n",
       "\n",
       "                   Edition  Rating  Review  \\\n",
       "0  Paperback,– 10 Mar 2016     4.0       8   \n",
       "1   Paperback,– 7 Nov 2012     3.9      14   \n",
       "\n",
       "                                            Synopsis  \\\n",
       "0  THE HUNTERS return in their third brilliant no...   \n",
       "1  A layered portrait of a troubled genius for wh...   \n",
       "\n",
       "                        Genre                          BookCategory   Price  \n",
       "0  Action & Adventure (Books)                    Action & Adventure  220.00  \n",
       "1  Cinema & Broadcast (Books)  Biographies, Diaries & True Accounts  202.93  "
      ]
     },
     "execution_count": 21,
     "metadata": {},
     "output_type": "execute_result"
    }
   ],
   "source": [
    "df.head(2)"
   ]
  },
  {
   "cell_type": "code",
   "execution_count": 22,
   "metadata": {},
   "outputs": [
    {
     "data": {
      "text/plain": [
       "Author\n",
       "0, Butterfield, Ngondi, Kerr       1\n",
       "0, Jonathan Law                    0\n",
       "0, Jonathan Law, Richard Rennie    1\n",
       "0, Kerr, Wright                    1\n",
       "0, Rennie, Law                     1\n",
       "                                  ..\n",
       "Zygmunt Miloszewski                1\n",
       "dodie                              1\n",
       "r.h. Sin                           1\n",
       "renu and neena kaul                1\n",
       "sister Jesme                       1\n",
       "Name: Price, Length: 4372, dtype: int64"
      ]
     },
     "execution_count": 22,
     "metadata": {},
     "output_type": "execute_result"
    }
   ],
   "source": [
    "df.groupby('Author')['Price'].count()"
   ]
  },
  {
   "cell_type": "code",
   "execution_count": 23,
   "metadata": {},
   "outputs": [],
   "source": [
    "df['Author']=df['Author'].map(lambda x : ''.join(x[2:]) if x.split(',')[0]=='0' else x)"
   ]
  },
  {
   "cell_type": "code",
   "execution_count": 24,
   "metadata": {},
   "outputs": [
    {
     "data": {
      "text/plain": [
       "Author\n",
       " Butterfield, Ngondi, Kerr       1\n",
       " Jonathan Law                    0\n",
       " Jonathan Law, Richard Rennie    1\n",
       " Kerr, Wright                    1\n",
       " Rennie, Law                     1\n",
       "                                ..\n",
       "Zygmunt Miloszewski              1\n",
       "dodie                            1\n",
       "r.h. Sin                         1\n",
       "renu and neena kaul              1\n",
       "sister Jesme                     1\n",
       "Name: Price, Length: 4372, dtype: int64"
      ]
     },
     "execution_count": 24,
     "metadata": {},
     "output_type": "execute_result"
    }
   ],
   "source": [
    "df.groupby('Author')['Price'].count()"
   ]
  },
  {
   "cell_type": "code",
   "execution_count": 25,
   "metadata": {},
   "outputs": [
    {
     "data": {
      "text/html": [
       "<div>\n",
       "<style scoped>\n",
       "    .dataframe tbody tr th:only-of-type {\n",
       "        vertical-align: middle;\n",
       "    }\n",
       "\n",
       "    .dataframe tbody tr th {\n",
       "        vertical-align: top;\n",
       "    }\n",
       "\n",
       "    .dataframe thead th {\n",
       "        text-align: right;\n",
       "    }\n",
       "</style>\n",
       "<table border=\"1\" class=\"dataframe\">\n",
       "  <thead>\n",
       "    <tr style=\"text-align: right;\">\n",
       "      <th></th>\n",
       "      <th>Title</th>\n",
       "      <th>Author</th>\n",
       "      <th>Edition</th>\n",
       "      <th>Rating</th>\n",
       "      <th>Review</th>\n",
       "      <th>Synopsis</th>\n",
       "      <th>Genre</th>\n",
       "      <th>BookCategory</th>\n",
       "      <th>Price</th>\n",
       "    </tr>\n",
       "  </thead>\n",
       "  <tbody>\n",
       "    <tr>\n",
       "      <th>0</th>\n",
       "      <td>The Prisoner's Gold (The Hunters 3)</td>\n",
       "      <td>Chris Kuzneski</td>\n",
       "      <td>Paperback,– 10 Mar 2016</td>\n",
       "      <td>4.0</td>\n",
       "      <td>8</td>\n",
       "      <td>THE HUNTERS return in their third brilliant no...</td>\n",
       "      <td>Action &amp; Adventure (Books)</td>\n",
       "      <td>Action &amp; Adventure</td>\n",
       "      <td>220.00</td>\n",
       "    </tr>\n",
       "    <tr>\n",
       "      <th>1</th>\n",
       "      <td>Guru Dutt: A Tragedy in Three Acts</td>\n",
       "      <td>Arun Khopkar</td>\n",
       "      <td>Paperback,– 7 Nov 2012</td>\n",
       "      <td>3.9</td>\n",
       "      <td>14</td>\n",
       "      <td>A layered portrait of a troubled genius for wh...</td>\n",
       "      <td>Cinema &amp; Broadcast (Books)</td>\n",
       "      <td>Biographies, Diaries &amp; True Accounts</td>\n",
       "      <td>202.93</td>\n",
       "    </tr>\n",
       "    <tr>\n",
       "      <th>2</th>\n",
       "      <td>Leviathan (Penguin Classics)</td>\n",
       "      <td>Thomas Hobbes</td>\n",
       "      <td>Paperback,– 25 Feb 1982</td>\n",
       "      <td>4.8</td>\n",
       "      <td>6</td>\n",
       "      <td>\"During the time men live without a common Pow...</td>\n",
       "      <td>International Relations</td>\n",
       "      <td>Humour</td>\n",
       "      <td>299.00</td>\n",
       "    </tr>\n",
       "    <tr>\n",
       "      <th>3</th>\n",
       "      <td>A Pocket Full of Rye (Miss Marple)</td>\n",
       "      <td>Agatha Christie</td>\n",
       "      <td>Paperback,– 5 Oct 2017</td>\n",
       "      <td>4.1</td>\n",
       "      <td>13</td>\n",
       "      <td>A handful of grain is found in the pocket of a...</td>\n",
       "      <td>Contemporary Fiction (Books)</td>\n",
       "      <td>Crime, Thriller &amp; Mystery</td>\n",
       "      <td>180.00</td>\n",
       "    </tr>\n",
       "    <tr>\n",
       "      <th>4</th>\n",
       "      <td>LIFE 70 Years of Extraordinary Photography</td>\n",
       "      <td>Editors of Life</td>\n",
       "      <td>Hardcover,– 10 Oct 2006</td>\n",
       "      <td>5.0</td>\n",
       "      <td>1</td>\n",
       "      <td>For seven decades, \"Life\" has been thrilling t...</td>\n",
       "      <td>Photography Textbooks</td>\n",
       "      <td>Arts, Film &amp; Photography</td>\n",
       "      <td>965.62</td>\n",
       "    </tr>\n",
       "  </tbody>\n",
       "</table>\n",
       "</div>"
      ],
      "text/plain": [
       "                                        Title           Author  \\\n",
       "0         The Prisoner's Gold (The Hunters 3)   Chris Kuzneski   \n",
       "1          Guru Dutt: A Tragedy in Three Acts     Arun Khopkar   \n",
       "2                Leviathan (Penguin Classics)    Thomas Hobbes   \n",
       "3          A Pocket Full of Rye (Miss Marple)  Agatha Christie   \n",
       "4  LIFE 70 Years of Extraordinary Photography  Editors of Life   \n",
       "\n",
       "                   Edition  Rating  Review  \\\n",
       "0  Paperback,– 10 Mar 2016     4.0       8   \n",
       "1   Paperback,– 7 Nov 2012     3.9      14   \n",
       "2  Paperback,– 25 Feb 1982     4.8       6   \n",
       "3   Paperback,– 5 Oct 2017     4.1      13   \n",
       "4  Hardcover,– 10 Oct 2006     5.0       1   \n",
       "\n",
       "                                            Synopsis  \\\n",
       "0  THE HUNTERS return in their third brilliant no...   \n",
       "1  A layered portrait of a troubled genius for wh...   \n",
       "2  \"During the time men live without a common Pow...   \n",
       "3  A handful of grain is found in the pocket of a...   \n",
       "4  For seven decades, \"Life\" has been thrilling t...   \n",
       "\n",
       "                          Genre                          BookCategory   Price  \n",
       "0    Action & Adventure (Books)                    Action & Adventure  220.00  \n",
       "1    Cinema & Broadcast (Books)  Biographies, Diaries & True Accounts  202.93  \n",
       "2       International Relations                                Humour  299.00  \n",
       "3  Contemporary Fiction (Books)             Crime, Thriller & Mystery  180.00  \n",
       "4         Photography Textbooks              Arts, Film & Photography  965.62  "
      ]
     },
     "execution_count": 25,
     "metadata": {},
     "output_type": "execute_result"
    }
   ],
   "source": [
    "df.head()"
   ]
  },
  {
   "cell_type": "code",
   "execution_count": 26,
   "metadata": {},
   "outputs": [],
   "source": [
    "num_cols = df.select_dtypes(include='number')"
   ]
  },
  {
   "cell_type": "code",
   "execution_count": 27,
   "metadata": {},
   "outputs": [],
   "source": [
    "cat_cols = df.select_dtypes(exclude='number')"
   ]
  },
  {
   "cell_type": "code",
   "execution_count": 28,
   "metadata": {},
   "outputs": [
    {
     "data": {
      "image/png": "[encoded data removed]",
      "text/plain": [
       "<Figure size 720x360 with 1 Axes>"
      ]
     },
     "metadata": {
      "needs_background": "light"
     },
     "output_type": "display_data"
    }
   ],
   "source": [
    "plt.figure(figsize=(10,5))\n",
    "plt.xlabel('Price')\n",
    "plt.title('Distribution plot for Price')\n",
    "sns.distplot(df['Price'])\n",
    "plt.show()"
   ]
  },
  {
   "cell_type": "code",
   "execution_count": 29,
   "metadata": {},
   "outputs": [
    {
     "data": {
      "image/png": "[encoded data removed]",
      "text/plain": [
       "<Figure size 720x360 with 1 Axes>"
      ]
     },
     "metadata": {
      "needs_background": "light"
     },
     "output_type": "display_data"
    }
   ],
   "source": [
    "\n",
    "plt.figure(figsize=(10,5))\n",
    "plt.title('Box plot for Price')\n",
    "sns.boxplot(df['Price'])\n",
    "plt.xlabel('Price')\n",
    "plt.show()"
   ]
  },
  {
   "cell_type": "code",
   "execution_count": 30,
   "metadata": {},
   "outputs": [
    {
     "data": {
      "image/png": "[encoded data removed]",
      "text/plain": [
       "<Figure size 720x360 with 1 Axes>"
      ]
     },
     "metadata": {
      "needs_background": "light"
     },
     "output_type": "display_data"
    }
   ],
   "source": [
    "plt.figure(figsize=(10,5))\n",
    "plt.title('Box plot for Price')\n",
    "sns.distplot(np.log1p(df['Price']))\n",
    "plt.xlabel('Price')\n",
    "plt.show()"
   ]
  },
  {
   "cell_type": "code",
   "execution_count": 31,
   "metadata": {},
   "outputs": [
    {
     "data": {
      "image/png": "[encoded data removed]",
      "text/plain": [
       "<Figure size 720x360 with 1 Axes>"
      ]
     },
     "metadata": {
      "needs_background": "light"
     },
     "output_type": "display_data"
    }
   ],
   "source": [
    "\n",
    "plt.figure(figsize=(10,5))\n",
    "plt.title('Box plot for Price')\n",
    "sns.boxplot(np.log1p(df['Price']))\n",
    "plt.xlabel('Price')\n",
    "plt.show()"
   ]
  },
  {
   "cell_type": "code",
   "execution_count": 32,
   "metadata": {},
   "outputs": [
    {
     "data": {
      "text/plain": [
       "Title           0.000000\n",
       "Author          0.000000\n",
       "Edition         0.000000\n",
       "Rating          0.000000\n",
       "Review          0.000000\n",
       "Synopsis        0.000000\n",
       "Genre           0.000000\n",
       "BookCategory    0.000000\n",
       "Price           0.200077\n",
       "dtype: float64"
      ]
     },
     "execution_count": 32,
     "metadata": {},
     "output_type": "execute_result"
    }
   ],
   "source": [
    "df.isnull().sum()/df.shape[0]"
   ]
  },
  {
   "cell_type": "code",
   "execution_count": 33,
   "metadata": {},
   "outputs": [
    {
     "data": {
      "text/plain": [
       "Title           6787\n",
       "Author          4372\n",
       "Edition         3882\n",
       "Rating            36\n",
       "Review           368\n",
       "Synopsis        6771\n",
       "Genre            363\n",
       "BookCategory      11\n",
       "Price           1614\n",
       "dtype: int64"
      ]
     },
     "execution_count": 33,
     "metadata": {},
     "output_type": "execute_result"
    }
   ],
   "source": [
    "df.nunique()"
   ]
  },
  {
   "cell_type": "code",
   "execution_count": 34,
   "metadata": {},
   "outputs": [
    {
     "data": {
      "image/png": "[encoded data removed]",
      "text/plain": [
       "<Figure size 720x504 with 1 Axes>"
      ]
     },
     "metadata": {
      "needs_background": "light"
     },
     "output_type": "display_data"
    }
   ],
   "source": [
    "plt.figure(figsize=(10,7))\n",
    "sns.distplot((df['Rating']))\n",
    "plt.title('Distribution plot for book ratings')\n",
    "plt.xlabel('Ratings')\n",
    "\n",
    "plt.show()"
   ]
  },
  {
   "cell_type": "code",
   "execution_count": 35,
   "metadata": {},
   "outputs": [
    {
     "data": {
      "image/png": "[encoded data removed]",
      "text/plain": [
       "<Figure size 720x504 with 1 Axes>"
      ]
     },
     "metadata": {
      "needs_background": "light"
     },
     "output_type": "display_data"
    }
   ],
   "source": [
    "plt.figure(figsize=(10,7))\n",
    "sns.distplot(np.log1p(df['Review']))\n",
    "plt.title('Distribution plot for book ratings')\n",
    "plt.xlabel('Review')\n",
    "\n",
    "plt.show()"
   ]
  },
  {
   "cell_type": "code",
   "execution_count": 36,
   "metadata": {},
   "outputs": [
    {
     "data": {
      "text/plain": [
       "Action & Adventure                      1036\n",
       "Crime, Thriller & Mystery                878\n",
       "Comics & Mangas                          744\n",
       "Language, Linguistics & Writing          733\n",
       "Biographies, Diaries & True Accounts     732\n",
       "Romance                                  702\n",
       "Humour                                   670\n",
       "Computing, Internet & Digital Media      648\n",
       "Arts, Film & Photography                 638\n",
       "Sports                                   614\n",
       "Politics                                 402\n",
       "Name: BookCategory, dtype: int64"
      ]
     },
     "execution_count": 36,
     "metadata": {},
     "output_type": "execute_result"
    }
   ],
   "source": [
    "df['BookCategory'].value_counts()"
   ]
  },
  {
   "cell_type": "code",
   "execution_count": 37,
   "metadata": {},
   "outputs": [
    {
     "data": {
      "image/png": "[encoded data removed]",
      "text/plain": [
       "<Figure size 720x360 with 1 Axes>"
      ]
     },
     "metadata": {
      "needs_background": "light"
     },
     "output_type": "display_data"
    }
   ],
   "source": [
    "plt.figure(figsize=(10,5))\n",
    "sns.countplot(df['BookCategory'])\n",
    "plt.xticks(rotation=90)\n",
    "plt.show()"
   ]
  },
  {
   "cell_type": "markdown",
   "metadata": {},
   "source": [
    "Search for Author who writes more than 1 book"
   ]
  },
  {
   "cell_type": "code",
   "execution_count": 38,
   "metadata": {},
   "outputs": [],
   "source": [
    "bk_au =[]\n",
    "bk_tl =[]\n",
    "for book_author in df['Author']:\n",
    "    if book_author not in bk_au:\n",
    "        bk_au.append(book_author)\n",
    "    else:\n",
    "        bk_tl.append(book_author)"
   ]
  },
  {
   "cell_type": "code",
   "execution_count": 39,
   "metadata": {},
   "outputs": [
    {
     "data": {
      "text/plain": [
       "array(['Paperback,– 10 Mar 2016', 'Paperback,– 7 Nov 2012',\n",
       "       'Paperback,– 25 Feb 1982', ..., 'Hardcover,– 11 Apr 2017',\n",
       "       'Paperback,– 2 Jul 1999', 'Paperback,– 16 Sep 2016'], dtype=object)"
      ]
     },
     "execution_count": 39,
     "metadata": {},
     "output_type": "execute_result"
    }
   ],
   "source": [
    "df['Edition'].unique()"
   ]
  },
  {
   "cell_type": "code",
   "execution_count": 40,
   "metadata": {},
   "outputs": [],
   "source": [
    "df['Edition']= df['Edition'].map(lambda x : x.split(', ')[0])\n"
   ]
  },
  {
   "cell_type": "code",
   "execution_count": 41,
   "metadata": {},
   "outputs": [],
   "source": [
    "df['cover_type'] =  df['Edition'].map(lambda x : x.split(',– ')[0])\n"
   ]
  },
  {
   "cell_type": "code",
   "execution_count": 42,
   "metadata": {},
   "outputs": [
    {
     "data": {
      "image/png": "[encoded data removed]",
      "text/plain": [
       "<Figure size 720x504 with 1 Axes>"
      ]
     },
     "metadata": {
      "needs_background": "light"
     },
     "output_type": "display_data"
    }
   ],
   "source": [
    "plt.figure(figsize=(10,7))\n",
    "np.log1p(df['cover_type'].value_counts()).plot(kind='bar')\n",
    "plt.title('Cover_type vs count')\n",
    "plt.xlabel('covertype')\n",
    "plt.ylabel('count')\n",
    "\n",
    "plt.show()"
   ]
  },
  {
   "cell_type": "code",
   "execution_count": 43,
   "metadata": {},
   "outputs": [
    {
     "data": {
      "text/plain": [
       "11"
      ]
     },
     "execution_count": 43,
     "metadata": {},
     "output_type": "execute_result"
    }
   ],
   "source": [
    "df['BookCategory'].nunique()"
   ]
  },
  {
   "cell_type": "code",
   "execution_count": 44,
   "metadata": {},
   "outputs": [
    {
     "data": {
      "text/plain": [
       "{0: 'Action & Adventure',\n",
       " 1: 'Arts, Film & Photography',\n",
       " 2: 'Biographies, Diaries & True Accounts',\n",
       " 3: 'Comics & Mangas',\n",
       " 4: 'Computing, Internet & Digital Media',\n",
       " 5: 'Crime, Thriller & Mystery',\n",
       " 6: 'Humour',\n",
       " 7: 'Language, Linguistics & Writing',\n",
       " 8: 'Politics',\n",
       " 9: 'Romance',\n",
       " 10: 'Sports'}"
      ]
     },
     "execution_count": 44,
     "metadata": {},
     "output_type": "execute_result"
    }
   ],
   "source": [
    "gle = LabelEncoder()\n",
    "bc_labels = gle.fit_transform(df['BookCategory'])\n",
    "bc_mappings = {index: label for index, label in \n",
    "                  enumerate(gle.classes_)}\n",
    "bc_mappings"
   ]
  },
  {
   "cell_type": "code",
   "execution_count": 45,
   "metadata": {},
   "outputs": [
    {
     "data": {
      "text/plain": [
       "{0: 'API & Operating Environments',\n",
       " 1: 'Action & Adventure (Books)',\n",
       " 2: 'Active Outdoor Pursuits (Books)',\n",
       " 3: 'Aeronautical Engineering',\n",
       " 4: 'Aesthetics',\n",
       " 5: 'Agriculture & Farming (Books)',\n",
       " 6: 'Air Sports (Books)',\n",
       " 7: 'Algebra & Trigonometry',\n",
       " 8: 'Algorithms',\n",
       " 9: 'Alphabet Reference',\n",
       " 10: 'Alternative Medicine (Books)',\n",
       " 11: 'American Football (Books)',\n",
       " 12: 'American Literature',\n",
       " 13: 'Americas',\n",
       " 14: 'Anatomy & Physiology',\n",
       " 15: 'Ancient History (Books)',\n",
       " 16: 'Anthologies (Books)',\n",
       " 17: 'Anthropology (Books)',\n",
       " 18: 'Archery (Books)',\n",
       " 19: 'Architecture (Books)',\n",
       " 20: 'Art Encyclopedias',\n",
       " 21: 'Art History',\n",
       " 22: 'Artificial Intelligence',\n",
       " 23: 'Arts History, Theory & Criticism (Books)',\n",
       " 24: 'Arts, Film & Photography (Books)',\n",
       " 25: 'Asian History',\n",
       " 26: 'Asian Literature',\n",
       " 27: 'Astrology',\n",
       " 28: 'Astronomy & Astrophysics',\n",
       " 29: 'Astronomy (Books)',\n",
       " 30: 'Atheism',\n",
       " 31: 'Banks & Banking',\n",
       " 32: 'Baseball (Books)',\n",
       " 33: 'Basketball (Books)',\n",
       " 34: 'Bioengineering',\n",
       " 35: 'Biographies & Autobiographies (Books)',\n",
       " 36: 'Biographies, Diaries & True Accounts (Books)',\n",
       " 37: 'Biology & Life Sciences',\n",
       " 38: 'Biology Books',\n",
       " 39: 'Biomedical Engineering',\n",
       " 40: 'Biostatistics',\n",
       " 41: 'Biotechnology Engineering Textbooks',\n",
       " 42: 'Bodybuilding & Weightlifting (Books)',\n",
       " 43: 'Buddhism (Books)',\n",
       " 44: 'Budget Travel',\n",
       " 45: 'Business & Economics (Books)',\n",
       " 46: 'Business Communication',\n",
       " 47: 'Business Development',\n",
       " 48: 'Business Ethics',\n",
       " 49: 'Business, Strategy & Management (Books)',\n",
       " 50: 'C# Programming',\n",
       " 51: 'CBSE',\n",
       " 52: 'CSS Programming',\n",
       " 53: 'Calculus',\n",
       " 54: 'Camping & Woodcraft (Books)',\n",
       " 55: 'Car Racing (Books)',\n",
       " 56: 'Chemistry Books',\n",
       " 57: \"Children's & Young Adult (Books)\",\n",
       " 58: \"Children's Adventure (Books)\",\n",
       " 59: \"Children's Crafts, Hobbies & Practical Interests (Books)\",\n",
       " 60: \"Children's Crime & Thriller (Books)\",\n",
       " 61: \"Children's Family, Personal & Social Issues (Books)\",\n",
       " 62: \"Children's Fantasy (Books)\",\n",
       " 63: \"Children's Games, Toys & Activities (Books)\",\n",
       " 64: \"Children's Historical Fiction (Books)\",\n",
       " 65: \"Children's History (Books)\",\n",
       " 66: \"Children's Horror & Ghost Stories (Books)\",\n",
       " 67: \"Children's Humour (Books)\",\n",
       " 68: \"Children's Language Learning (Books)\",\n",
       " 69: \"Children's Mysteries & Curiosities (Books)\",\n",
       " 70: \"Children's Painting, Arts & Music (Books)\",\n",
       " 71: \"Children's Picture Books (Books)\",\n",
       " 72: \"Children's Reference (Books)\",\n",
       " 73: \"Children's Science Fiction (Books)\",\n",
       " 74: \"Children's Science, Nature & Technology (Books)\",\n",
       " 75: \"Children's Sport (Books)\",\n",
       " 76: \"Children's Traditional Stories (Books)\",\n",
       " 77: 'Chiropractic',\n",
       " 78: 'Cinema & Broadcast (Books)',\n",
       " 79: 'Civil Rights',\n",
       " 80: 'Classic Fiction (Books)',\n",
       " 81: 'Climbing & Mountaineering (Books)',\n",
       " 82: 'Cold War',\n",
       " 83: 'Colonialism & Imperialism History',\n",
       " 84: 'Combat Sports & Self-Defence (Books)',\n",
       " 85: 'Comics',\n",
       " 86: 'Comics & Graphic Novels (Books)',\n",
       " 87: 'Comics & Mangas (Books)',\n",
       " 88: 'Communication Reference',\n",
       " 89: 'Communications',\n",
       " 90: 'Computer Databases (Books)',\n",
       " 91: 'Computer Hardware & Handheld Devices (Books)',\n",
       " 92: 'Computer Science Books',\n",
       " 93: 'Computer Security (Books)',\n",
       " 94: 'Computing, Internet & Digital Media (Books)',\n",
       " 95: 'Constitutional Law',\n",
       " 96: 'Contemporary Fiction (Books)',\n",
       " 97: 'Crafts, Home & Lifestyle (Books)',\n",
       " 98: 'Creative Writing & Composition',\n",
       " 99: 'Cricket (Books)',\n",
       " 100: 'Crime, Thriller & Mystery (Books)',\n",
       " 101: 'Cycling (Books)',\n",
       " 102: 'Dance (Books)',\n",
       " 103: 'Design',\n",
       " 104: 'Design & Fashion (Books)',\n",
       " 105: 'Design Pattern Programming',\n",
       " 106: 'Development & Growth',\n",
       " 107: 'Developmental Psychology',\n",
       " 108: 'Diaries, Letters & Journals (Books)',\n",
       " 109: 'Dictionaries',\n",
       " 110: 'Digital Media & Graphic Design (Books)',\n",
       " 111: 'Earth Sciences Textbooks',\n",
       " 112: 'Ecology',\n",
       " 113: 'Economic Conditions',\n",
       " 114: 'Economic History',\n",
       " 115: 'Economic Policy & Development',\n",
       " 116: 'Economic Theory',\n",
       " 117: 'Economics Books',\n",
       " 118: 'Economics Textbooks',\n",
       " 119: 'Ecotourism',\n",
       " 120: 'Education & Training',\n",
       " 121: 'Electrical & Electronic Engineering',\n",
       " 122: 'Encyclopaedias & Reference Works (Books)',\n",
       " 123: 'Encyclopedias for Children',\n",
       " 124: 'Engineering',\n",
       " 125: 'Engineering & Technology (Books)',\n",
       " 126: 'Engineering Services Exams',\n",
       " 127: 'English Literature',\n",
       " 128: 'Entrepreneurship',\n",
       " 129: 'Environmental Economics',\n",
       " 130: 'Environmental Engineering',\n",
       " 131: 'Environmental Studies',\n",
       " 132: 'Essay, Letter & Review Writing',\n",
       " 133: 'Essays (Books)',\n",
       " 134: 'Ethics',\n",
       " 135: 'European History',\n",
       " 136: 'European History Textbooks',\n",
       " 137: 'Exam Preparation (Books)',\n",
       " 138: 'FPC',\n",
       " 139: 'Family & Relationships (Books)',\n",
       " 140: 'Fantasy, Science Fiction & Horror (Books)',\n",
       " 141: 'Film & Television',\n",
       " 142: 'Fishing & Angling (Books)',\n",
       " 143: 'Flash Cards',\n",
       " 144: 'Food & Lodging',\n",
       " 145: 'Food, Drink & Entertaining (Books)',\n",
       " 146: 'Foreign Languages',\n",
       " 147: 'Forensic Medicine',\n",
       " 148: 'French',\n",
       " 149: 'Functional Software Programming',\n",
       " 150: 'GATE Exams',\n",
       " 151: 'GMAT',\n",
       " 152: 'GRE',\n",
       " 153: 'Game Programming',\n",
       " 154: 'Games & Quizzes (Books)',\n",
       " 155: 'Gay & Lesbian Studies',\n",
       " 156: 'Gender Studies',\n",
       " 157: 'General Dentistry',\n",
       " 158: 'Geography Textbooks',\n",
       " 159: 'Geometry',\n",
       " 160: 'German',\n",
       " 161: 'Golf (Books)',\n",
       " 162: 'Government (Books)',\n",
       " 163: 'Government Exams',\n",
       " 164: 'Governmental',\n",
       " 165: 'Grammar (Books)',\n",
       " 166: 'Graphics & Visualization',\n",
       " 167: 'Gymnastics (Books)',\n",
       " 168: 'Handicrafts, Decorative Arts & Crafts (Books)',\n",
       " 169: 'Handwriting Reference',\n",
       " 170: 'Healthy Living & Wellness (Books)',\n",
       " 171: 'Hinduism (Books)',\n",
       " 172: 'Historical Fiction (Books)',\n",
       " 173: 'History & Surveys',\n",
       " 174: 'History (Books)',\n",
       " 175: 'History of Ancient Greece',\n",
       " 176: 'History of Civilization & Culture',\n",
       " 177: 'History of Ideas',\n",
       " 178: 'History of Religion (Books)',\n",
       " 179: 'History of Slavery & Emancipation',\n",
       " 180: 'Hockey',\n",
       " 181: 'Holocaust',\n",
       " 182: 'Home & House Maintenance (Books)',\n",
       " 183: 'Horror (Books)',\n",
       " 184: 'Horse Racing (Books)',\n",
       " 185: 'Humanities',\n",
       " 186: 'Humour (Books)',\n",
       " 187: 'Hunting (Books)',\n",
       " 188: 'IELTS',\n",
       " 189: 'IGCSE',\n",
       " 190: 'IT Certification Exams',\n",
       " 191: 'Illustrated Travel Books (Books)',\n",
       " 192: 'Immunology',\n",
       " 193: 'Indian Writing (Books)',\n",
       " 194: 'Industrial Engineering',\n",
       " 195: 'Industries & Business Sectors (Books)',\n",
       " 196: 'Inflation',\n",
       " 197: 'Interface Design Programming',\n",
       " 198: 'Internal Medicine',\n",
       " 199: 'International Baccalaureate',\n",
       " 200: 'International Business',\n",
       " 201: 'International Entrance Exams',\n",
       " 202: 'International Relations',\n",
       " 203: 'International Relations & Globalization (Books)',\n",
       " 204: 'Internet & Web (Books)',\n",
       " 205: 'Interview Preparation',\n",
       " 206: 'Intolerance, Persecution & Fundamentalism',\n",
       " 207: 'Introductory & Beginning Programming',\n",
       " 208: 'Investments & Securities',\n",
       " 209: 'Islam (Books)',\n",
       " 210: 'Italian',\n",
       " 211: 'Japanese',\n",
       " 212: 'Journalism Books',\n",
       " 213: 'Labor & Industrial Relations',\n",
       " 214: 'Language & Linguistics',\n",
       " 215: 'Language Learning & Teaching (Books)',\n",
       " 216: 'Language, Linguistics & Writing (Books)',\n",
       " 217: 'Law (Books)',\n",
       " 218: 'Library & Information Science',\n",
       " 219: 'Linguistics (Books)',\n",
       " 220: 'Literary Theory',\n",
       " 221: 'Literary Travel',\n",
       " 222: 'Literature',\n",
       " 223: 'Literature & Fiction (Books)',\n",
       " 224: 'Literature Encyclopedias',\n",
       " 225: 'Macroeconomics Textbooks',\n",
       " 226: 'Management',\n",
       " 227: 'Mangas',\n",
       " 228: 'Marathon & Running (Books)',\n",
       " 229: 'Martial Arts (Books)',\n",
       " 230: 'Mathematics (Books)',\n",
       " 231: 'Media Studies',\n",
       " 232: 'Medical Dictionaries',\n",
       " 233: 'Medicine`',\n",
       " 234: 'Meditation',\n",
       " 235: 'Mental & Spiritual Healing',\n",
       " 236: 'Microeconomics Textbooks',\n",
       " 237: 'Middle Eastern History',\n",
       " 238: 'Military History (Books)',\n",
       " 239: 'Military Sciences',\n",
       " 240: 'Mind, Body & Spirit (Books)',\n",
       " 241: 'Motorcycle Racing',\n",
       " 242: 'Music Books',\n",
       " 243: 'Music Textbooks',\n",
       " 244: 'Mysticism',\n",
       " 245: 'Myths, Legends & Sagas (Books)',\n",
       " 246: 'Networking (Books)',\n",
       " 247: 'Networks & System Administration (Books)',\n",
       " 248: 'Neurology',\n",
       " 249: 'Neuroscience',\n",
       " 250: 'Nuclear Engineering',\n",
       " 251: 'Object-Oriented Software Design',\n",
       " 252: 'Occupational Therapy',\n",
       " 253: 'Oncology',\n",
       " 254: 'Operating Systems Books',\n",
       " 255: 'Operating Systems Textbooks',\n",
       " 256: 'Outdoor Survival Skills (Books)',\n",
       " 257: 'PC & Video Games (Books)',\n",
       " 258: 'PGMEE Exam',\n",
       " 259: 'Painting Books',\n",
       " 260: 'Painting Textbooks',\n",
       " 261: 'Personal Development & Self-Help (Books)',\n",
       " 262: 'Pets (Books)',\n",
       " 263: 'Philosophy (Books)',\n",
       " 264: 'Photography Textbooks',\n",
       " 265: 'Physician & Patient',\n",
       " 266: 'Physics (Books)',\n",
       " 267: 'Plays (Books)',\n",
       " 268: 'Political Freedom & Security (Books)',\n",
       " 269: 'Political Ideologies (Books)',\n",
       " 270: 'Political Parties (Books)',\n",
       " 271: 'Political Structure & Processes (Books)',\n",
       " 272: 'Political Theory (Books)',\n",
       " 273: 'Politics (Books)',\n",
       " 274: 'Pool, Billiards & Snooker (Books)',\n",
       " 275: 'Programming & Software Development (Books)',\n",
       " 276: 'Programming Algorithms',\n",
       " 277: 'Programming Languages (Books)',\n",
       " 278: 'Psychology (Books)',\n",
       " 279: 'Public Administration (Books)',\n",
       " 280: 'Public Affairs',\n",
       " 281: 'Public Health',\n",
       " 282: 'Public Policy',\n",
       " 283: 'Public Speaking Reference',\n",
       " 284: 'Python Programming',\n",
       " 285: 'Radiological & Ultrasound Technology',\n",
       " 286: 'Readers',\n",
       " 287: 'Reading Skills',\n",
       " 288: 'Reference (Books)',\n",
       " 289: 'Reincarnation',\n",
       " 290: 'Religion (Books)',\n",
       " 291: 'Religious & Spiritual Fiction (Books)',\n",
       " 292: 'Religious Studies',\n",
       " 293: 'Rhetoric & Speech (Books)',\n",
       " 294: 'Romance (Books)',\n",
       " 295: 'Rome',\n",
       " 296: 'Rugby (Books)',\n",
       " 297: 'SAT',\n",
       " 298: 'SSC Exam',\n",
       " 299: 'Sailing (Books)',\n",
       " 300: 'Sales',\n",
       " 301: 'Science & Mathematics',\n",
       " 302: 'Sciences, Technology & Medicine (Books)',\n",
       " 303: 'Sculpture',\n",
       " 304: 'Short Stories (Books)',\n",
       " 305: 'Sign Language Reference',\n",
       " 306: 'Sikhism (Books)',\n",
       " 307: 'Soccer (Books)',\n",
       " 308: 'Social Sciences',\n",
       " 309: 'Social Welfare & Social Services (Books)',\n",
       " 310: 'Society & Culture (Books)',\n",
       " 311: 'Society & Social Sciences (Books)',\n",
       " 312: 'Sociology (Books)',\n",
       " 313: 'Software & Business Applications (Books)',\n",
       " 314: 'Software Architecture',\n",
       " 315: 'Software Design & Engineering',\n",
       " 316: 'Software Programming Compilers',\n",
       " 317: 'Software Testing',\n",
       " 318: 'Spanish',\n",
       " 319: 'Specialty Travel',\n",
       " 320: 'Speech',\n",
       " 321: 'Spirituality',\n",
       " 322: 'Sporting Events & Organisations (Books)',\n",
       " 323: 'Sports (Books)',\n",
       " 324: 'Sports Medicine',\n",
       " 325: 'Sports Training & Coaching (Books)',\n",
       " 326: 'Structural Engineering',\n",
       " 327: 'Study Guides',\n",
       " 328: 'Sustainable Development',\n",
       " 329: 'Swimming, Snorkelling & Diving (Books)',\n",
       " 330: 'TOEFL',\n",
       " 331: 'Target Shooting (Books)',\n",
       " 332: 'Teaching & Education',\n",
       " 333: 'Tennis (Books)',\n",
       " 334: 'Textbooks & Study Guides',\n",
       " 335: 'Theater',\n",
       " 336: 'Theatre & Spectacles (Books)',\n",
       " 337: 'Theology & Philosophy of Religion (Books)',\n",
       " 338: 'Theory',\n",
       " 339: 'Translation Reference',\n",
       " 340: 'Transportation & Automotive (Books)',\n",
       " 341: 'Travel & Holiday Guides (Books)',\n",
       " 342: 'Travel (Books)',\n",
       " 343: 'Travel Phrasebooks',\n",
       " 344: 'Travel with Pets',\n",
       " 345: 'Triathlon (Books)',\n",
       " 346: 'True Accounts (Books)',\n",
       " 347: 'United States History',\n",
       " 348: 'Urban & Regional',\n",
       " 349: 'Vascular Surgery',\n",
       " 350: 'Visual Arts',\n",
       " 351: 'Visual C++ Programming',\n",
       " 352: 'Vocabulary Books',\n",
       " 353: 'Walking, Hiking & Trekking (Books)',\n",
       " 354: 'Waste Management',\n",
       " 355: 'Winter Sports (Books)',\n",
       " 356: 'Words, Language & Grammar Reference',\n",
       " 357: 'Workbooks',\n",
       " 358: 'World African & Middle Eastern Literature',\n",
       " 359: 'Writing Guides (Books)',\n",
       " 360: 'XHTML Software Programming',\n",
       " 361: \"Young Adults' Money & Jobs (Books)\",\n",
       " 362: 'Zoology'}"
      ]
     },
     "execution_count": 45,
     "metadata": {},
     "output_type": "execute_result"
    }
   ],
   "source": [
    "gle = LabelEncoder()\n",
    "bg_labels = gle.fit_transform(df['Genre'])\n",
    "bg_mappings = {index: label for index, label in \n",
    "                  enumerate(gle.classes_)}\n",
    "bg_mappings"
   ]
  },
  {
   "cell_type": "code",
   "execution_count": 46,
   "metadata": {},
   "outputs": [],
   "source": [
    "df['bc_Label'] = bc_labels"
   ]
  },
  {
   "cell_type": "code",
   "execution_count": 47,
   "metadata": {},
   "outputs": [],
   "source": [
    "df['bg_label'] = bg_labels"
   ]
  },
  {
   "cell_type": "code",
   "execution_count": 48,
   "metadata": {},
   "outputs": [
    {
     "data": {
      "text/plain": [
       "{0: '(Chinese),Paperback',\n",
       " 1: '(French),Paperback',\n",
       " 2: '(German),Paperback',\n",
       " 3: '(Kannada),Paperback',\n",
       " 4: '(Spanish),Paperback',\n",
       " 5: 'Board book',\n",
       " 6: 'Cards',\n",
       " 7: 'Flexibound',\n",
       " 8: 'Hardcover',\n",
       " 9: 'Leather Bound',\n",
       " 10: 'Library Binding',\n",
       " 11: 'Loose Leaf',\n",
       " 12: 'Mass Market Paperback',\n",
       " 13: 'Paperback',\n",
       " 14: 'Perfect Paperback',\n",
       " 15: 'Plastic Comb',\n",
       " 16: 'Product Bundle',\n",
       " 17: 'Sheet music',\n",
       " 18: 'Spiral-bound',\n",
       " 19: 'Tankobon Softcover'}"
      ]
     },
     "execution_count": 48,
     "metadata": {},
     "output_type": "execute_result"
    }
   ],
   "source": [
    "gle = LabelEncoder()\n",
    "ct_labels = gle.fit_transform(df['cover_type'])\n",
    "ct_mappings = {index: label for index, label in \n",
    "                  enumerate(gle.classes_)}\n",
    "ct_mappings"
   ]
  },
  {
   "cell_type": "code",
   "execution_count": 49,
   "metadata": {},
   "outputs": [],
   "source": [
    "df['ct_label'] = ct_labels"
   ]
  },
  {
   "cell_type": "code",
   "execution_count": 50,
   "metadata": {},
   "outputs": [
    {
     "data": {
      "text/plain": [
       "Index(['Title', 'Author', 'Edition', 'Rating', 'Review', 'Synopsis', 'Genre',\n",
       "       'BookCategory', 'Price', 'cover_type', 'bc_Label', 'bg_label',\n",
       "       'ct_label'],\n",
       "      dtype='object')"
      ]
     },
     "execution_count": 50,
     "metadata": {},
     "output_type": "execute_result"
    }
   ],
   "source": [
    "df.columns"
   ]
  },
  {
   "cell_type": "code",
   "execution_count": 51,
   "metadata": {},
   "outputs": [],
   "source": [
    "a = ['Rating', 'Review', 'Price','bc_Label', 'bg_label','ct_label']\n",
    "df2 = df[a]"
   ]
  },
  {
   "cell_type": "code",
   "execution_count": 52,
   "metadata": {},
   "outputs": [
    {
     "name": "stderr",
     "output_type": "stream",
     "text": [
      "C:\\Users\\PC\\anaconda3\\lib\\site-packages\\pandas\\core\\generic.py:6245: SettingWithCopyWarning: \n",
      "A value is trying to be set on a copy of a slice from a DataFrame\n",
      "\n",
      "See the caveats in the documentation: https://pandas.pydata.org/pandas-docs/stable/user_guide/indexing.html#returning-a-view-versus-a-copy\n",
      "  self._update_inplace(new_data)\n"
     ]
    }
   ],
   "source": [
    "df2['Price'].fillna(0,inplace=True)\n"
   ]
  },
  {
   "cell_type": "code",
   "execution_count": 53,
   "metadata": {},
   "outputs": [
    {
     "name": "stderr",
     "output_type": "stream",
     "text": [
      "C:\\Users\\PC\\anaconda3\\lib\\site-packages\\pandas\\core\\generic.py:6746: SettingWithCopyWarning: \n",
      "A value is trying to be set on a copy of a slice from a DataFrame\n",
      "\n",
      "See the caveats in the documentation: https://pandas.pydata.org/pandas-docs/stable/user_guide/indexing.html#returning-a-view-versus-a-copy\n",
      "  self._update_inplace(new_data)\n"
     ]
    }
   ],
   "source": [
    "i = np.median(df2['Price'])\n",
    "df2['Price'].replace(0,i,inplace=True)"
   ]
  },
  {
   "cell_type": "code",
   "execution_count": 54,
   "metadata": {},
   "outputs": [],
   "source": [
    "df_ohe = pd.get_dummies(df2)"
   ]
  },
  {
   "cell_type": "code",
   "execution_count": 55,
   "metadata": {},
   "outputs": [],
   "source": [
    "X = df_ohe.drop('Price',axis=1)\n",
    "y = df_ohe['Price']"
   ]
  },
  {
   "cell_type": "code",
   "execution_count": 56,
   "metadata": {},
   "outputs": [],
   "source": [
    "X_train,X_val,y_train,y_val = train_test_split(X,y,train_size=0.8,random_state=21)"
   ]
  },
  {
   "cell_type": "code",
   "execution_count": 57,
   "metadata": {},
   "outputs": [
    {
     "name": "stdout",
     "output_type": "stream",
     "text": [
      "(6237, 5) (6237,)\n",
      "(1560, 5) (1560,)\n"
     ]
    }
   ],
   "source": [
    "print(X_train.shape,y_train.shape)\n",
    "print(X_val.shape,y_val.shape)"
   ]
  },
  {
   "cell_type": "code",
   "execution_count": 62,
   "metadata": {},
   "outputs": [
    {
     "name": "stdout",
     "output_type": "stream",
     "text": [
      "Root Mean Squared Error:  607.0581902273861\n",
      "R2_score:  0.0375315480637316\n",
      "Mean Absolute Error:   297.28931123282223\n"
     ]
    }
   ],
   "source": [
    "from sklearn.metrics import mean_squared_error ,r2_score, mean_absolute_error\n",
    "rmse = np.sqrt(mean_squared_error(y_val,y_pred))\n",
    "\n",
    "print(\"Root Mean Squared Error: \", rmse)\n",
    "print(\"R2_score: \",r2_score(y_val,y_pred))\n",
    "print(\"Mean Absolute Error:  \", mean_absolute_error(y_val,y_pred))"
   ]
  },
  {
   "cell_type": "code",
   "execution_count": 63,
   "metadata": {},
   "outputs": [
    {
     "name": "stderr",
     "output_type": "stream",
     "text": [
      "<ipython-input-63-d2933a8e0286>:1: RuntimeWarning: invalid value encountered in log10\n",
      "  1- np.sqrt(np.square(np.log10(y_pred +1) - np.log10(y_val +1)).mean())\n"
     ]
    },
    {
     "data": {
      "text/plain": [
       "0.6915155046750581"
      ]
     },
     "execution_count": 63,
     "metadata": {},
     "output_type": "execute_result"
    }
   ],
   "source": [
    "1- np.sqrt(np.square(np.log10(y_pred +1) - np.log10(y_val +1)).mean())"
   ]
  },
  {
   "cell_type": "code",
   "execution_count": 65,
   "metadata": {},
   "outputs": [
    {
     "name": "stderr",
     "output_type": "stream",
     "text": [
      "<frozen importlib._bootstrap>:219: RuntimeWarning: numpy.ufunc size changed, may indicate binary incompatibility. Expected 192 from C header, got 216 from PyObject\n"
     ]
    }
   ],
   "source": [
    "from sklearn.linear_model import LinearRegression, Lasso, Ridge\n",
    "from sklearn.tree import DecisionTreeRegressor\n",
    "from sklearn.ensemble import RandomForestRegressor\n",
    "from sklearn.model_selection import train_test_split\n",
    "from sklearn.metrics import mean_squared_error"
   ]
  },
  {
   "cell_type": "code",
   "execution_count": 66,
   "metadata": {},
   "outputs": [],
   "source": [
    "lr = LinearRegression()\n",
    "ls = Lasso()\n",
    "rd = Ridge()\n",
    "dr = DecisionTreeRegressor()\n",
    "rr = RandomForestRegressor()"
   ]
  },
  {
   "cell_type": "code",
   "execution_count": 78,
   "metadata": {},
   "outputs": [],
   "source": [
    "# model_ls = [(lr, 'Linear Regression'), (ls, 'Lasso'), (rd, 'Ridge'), (dr, 'Decision Tree Reg'), (rr, 'Random Forest Reg')]\n",
    "\n",
    "# # Iterate ovwer each model\n",
    "# for item in model_ls:\n",
    "#     model = item[0]\n",
    "#     name = item[1]\n",
    "#     print(f'Running {name}')\n",
    "#     print('')\n",
    "    \n",
    "#     # Train the model\n",
    "#     model.fit(X_train, y_train)\n",
    "    \n",
    "#     # Predict the results\n",
    "#     y_pred = model.predict(X_val)\n",
    "    \n",
    "#     # Calculate the root mean squared error\n",
    "#     error = round(np.sqrt(mean_squared_error(y_val, y_pred)), 2)\n",
    "    \n",
    "#     # Print the value\n",
    "#     print(f'Root mean squared error using {name} is {error}')\n",
    "#     print('-'*100)\n",
    "#     print('')\n",
    "#     print(\"R2_score: \",r2_score(y_val,y_pred))\n",
    "#     print('-'*100)\n",
    "#     print('')\n",
    "#     print(\"Mean Absolute Error:  \", mean_absolute_error(y_val,y_pred))\n",
    "#     print('-'*100)\n",
    "#     print('')\n",
    "#     print(round(1- np.sqrt(np.square(np.log10(y_pred +1) - np.log10(y_val +1)).mean()),2))\n",
    "#     print('-'*100)\n",
    "#     print('')"
   ]
  },
  {
   "cell_type": "code",
   "execution_count": 82,
   "metadata": {},
   "outputs": [],
   "source": [
    "def download_preds(preds_test, file_name):\n",
    "\n",
    "  ## 1. Setting the target column with our obtained predictions\n",
    "  ss[1] = preds_test\n",
    "\n",
    "  ## 2. Saving our predictions to a csv file\n",
    "\n",
    "  ss.to_csv(file_name, index = False)\n",
    "\n",
    "  ## 3. Downloading and submitting the csv file\n",
    "#   from google.colab import files\n",
    "#   files.download(file_name)"
   ]
  },
  {
   "cell_type": "code",
   "execution_count": 83,
   "metadata": {},
   "outputs": [
    {
     "data": {
      "text/plain": [
       "LinearRegression()"
      ]
     },
     "execution_count": 83,
     "metadata": {},
     "output_type": "execute_result"
    }
   ],
   "source": [
    "lr.fit(X_train,y_train)"
   ]
  },
  {
   "cell_type": "code",
   "execution_count": 84,
   "metadata": {},
   "outputs": [],
   "source": [
    "preds_test = lr.predict(X_val)"
   ]
  },
  {
   "cell_type": "code",
   "execution_count": 95,
   "metadata": {},
   "outputs": [
    {
     "name": "stderr",
     "output_type": "stream",
     "text": [
      "<ipython-input-95-da5dc4af1f2b>:1: RuntimeWarning: invalid value encountered in log10\n",
      "  round(1- np.sqrt(np.square(np.log10(preds_test +1) - np.log10(y_val +1)).mean()),5)\n"
     ]
    },
    {
     "data": {
      "text/plain": [
       "0.69152"
      ]
     },
     "execution_count": 95,
     "metadata": {},
     "output_type": "execute_result"
    }
   ],
   "source": [
    "round(1- np.sqrt(np.square(np.log10(preds_test +1) - np.log10(y_val +1)).mean()),5)"
   ]
  },
  {
   "cell_type": "code",
   "execution_count": 85,
   "metadata": {},
   "outputs": [],
   "source": [
    "download_preds(preds_test, 'lr.csv')\n"
   ]
  },
  {
   "cell_type": "code",
   "execution_count": 118,
   "metadata": {},
   "outputs": [
    {
     "data": {
      "text/plain": [
       "624.5374483071882"
      ]
     },
     "execution_count": 118,
     "metadata": {},
     "output_type": "execute_result"
    }
   ],
   "source": [
    "np.sqrt(mean_squared_error(y_val,preds_test_rr))"
   ]
  },
  {
   "cell_type": "code",
   "execution_count": 107,
   "metadata": {},
   "outputs": [
    {
     "name": "stderr",
     "output_type": "stream",
     "text": [
      "<ipython-input-107-f75d441d60ff>:1: RuntimeWarning: invalid value encountered in log10\n",
      "  1 - np.sqrt(np.square(np.log10(preds_test +1) - np.log10(y_val +1)).mean())\n"
     ]
    },
    {
     "data": {
      "text/plain": [
       "0.6915155046750581"
      ]
     },
     "execution_count": 107,
     "metadata": {},
     "output_type": "execute_result"
    }
   ],
   "source": [
    "1 - np.sqrt(np.square(np.log10(preds_test +1) - np.log10(y_val +1)).mean())"
   ]
  },
  {
   "cell_type": "code",
   "execution_count": 93,
   "metadata": {},
   "outputs": [
    {
     "data": {
      "text/plain": [
       "DecisionTreeRegressor()"
      ]
     },
     "execution_count": 93,
     "metadata": {},
     "output_type": "execute_result"
    }
   ],
   "source": [
    "dr.fit(X_train,y_train)"
   ]
  },
  {
   "cell_type": "code",
   "execution_count": 94,
   "metadata": {},
   "outputs": [],
   "source": [
    "preds_test_dr = lr.predict(X_val)"
   ]
  },
  {
   "cell_type": "code",
   "execution_count": 96,
   "metadata": {},
   "outputs": [
    {
     "name": "stderr",
     "output_type": "stream",
     "text": [
      "<ipython-input-96-10df1597ce98>:1: RuntimeWarning: invalid value encountered in log10\n",
      "  1 - np.sqrt(np.square(np.log10(preds_test_dr +1) - np.log10(y_val +1)).mean())\n"
     ]
    },
    {
     "data": {
      "text/plain": [
       "0.6915155046750581"
      ]
     },
     "execution_count": 96,
     "metadata": {},
     "output_type": "execute_result"
    }
   ],
   "source": [
    "1 - np.sqrt(np.square(np.log10(preds_test_dr +1) - np.log10(y_val +1)).mean())"
   ]
  },
  {
   "cell_type": "code",
   "execution_count": 97,
   "metadata": {},
   "outputs": [
    {
     "data": {
      "text/plain": [
       "Lasso()"
      ]
     },
     "execution_count": 97,
     "metadata": {},
     "output_type": "execute_result"
    }
   ],
   "source": [
    "ls.fit(X_train,y_train)"
   ]
  },
  {
   "cell_type": "code",
   "execution_count": 98,
   "metadata": {},
   "outputs": [],
   "source": [
    "preds_test_ls = ls.predict(X_val)"
   ]
  },
  {
   "cell_type": "code",
   "execution_count": 100,
   "metadata": {},
   "outputs": [
    {
     "name": "stderr",
     "output_type": "stream",
     "text": [
      "<ipython-input-100-d571711af6ed>:1: RuntimeWarning: invalid value encountered in log10\n",
      "  1 - np.sqrt(np.square(np.log10(preds_test_ls +1) - np.log10(y_val +1)).mean())\n"
     ]
    },
    {
     "data": {
      "text/plain": [
       "0.69151830308097"
      ]
     },
     "execution_count": 100,
     "metadata": {},
     "output_type": "execute_result"
    }
   ],
   "source": [
    "1 - np.sqrt(np.square(np.log10(preds_test_ls +1) - np.log10(y_val +1)).mean())"
   ]
  },
  {
   "cell_type": "code",
   "execution_count": 101,
   "metadata": {},
   "outputs": [
    {
     "data": {
      "text/plain": [
       "RandomForestRegressor()"
      ]
     },
     "execution_count": 101,
     "metadata": {},
     "output_type": "execute_result"
    }
   ],
   "source": [
    "rr.fit(X_train,y_train)"
   ]
  },
  {
   "cell_type": "code",
   "execution_count": 102,
   "metadata": {},
   "outputs": [],
   "source": [
    "preds_test_rr = rr.predict(X_val)"
   ]
  },
  {
   "cell_type": "code",
   "execution_count": 103,
   "metadata": {},
   "outputs": [
    {
     "data": {
      "text/plain": [
       "0.6990435383904565"
      ]
     },
     "execution_count": 103,
     "metadata": {},
     "output_type": "execute_result"
    }
   ],
   "source": [
    "1 - np.sqrt(np.square(np.log10(preds_test_rr +1) - np.log10(y_val +1)).mean())"
   ]
  },
  {
   "cell_type": "code",
   "execution_count": 119,
   "metadata": {},
   "outputs": [],
   "source": [
    "download_preds(preds_test_rd, 'rd.csv')"
   ]
  },
  {
   "cell_type": "code",
   "execution_count": 104,
   "metadata": {},
   "outputs": [
    {
     "data": {
      "text/plain": [
       "Ridge()"
      ]
     },
     "execution_count": 104,
     "metadata": {},
     "output_type": "execute_result"
    }
   ],
   "source": [
    "rd.fit(X_train,y_train)"
   ]
  },
  {
   "cell_type": "code",
   "execution_count": 105,
   "metadata": {},
   "outputs": [],
   "source": [
    "preds_test_rd = rr.predict(X_val)"
   ]
  },
  {
   "cell_type": "code",
   "execution_count": 106,
   "metadata": {},
   "outputs": [
    {
     "data": {
      "text/plain": [
       "0.6990435383904565"
      ]
     },
     "execution_count": 106,
     "metadata": {},
     "output_type": "execute_result"
    }
   ],
   "source": [
    "1 - np.sqrt(np.square(np.log10(preds_test_rd +1) - np.log10(y_val +1)).mean())"
   ]
  }
 ],
 "metadata": {
  "kernelspec": {
   "display_name": "Python 3",
   "language": "python",
   "name": "python3"
  },
  "language_info": {
   "codemirror_mode": {
    "name": "ipython",
    "version": 3
   },
   "file_extension": ".py",
   "mimetype": "text/x-python",
   "name": "python",
   "nbconvert_exporter": "python",
   "pygments_lexer": "ipython3",
   "version": "3.8.3"
  }
 },
 "nbformat": 4,
 "nbformat_minor": 4
}
